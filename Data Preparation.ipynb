{
 "cells": [
  {
   "cell_type": "markdown",
   "metadata": {},
   "source": [
    "# Data Prepare"
   ]
  },
  {
   "cell_type": "code",
   "execution_count": 16,
   "metadata": {},
   "outputs": [],
   "source": [
    "import os\n",
    "from shutil import copyfile\n",
    "import pandas as pd"
   ]
  },
  {
   "cell_type": "code",
   "execution_count": 17,
   "metadata": {},
   "outputs": [
    {
     "name": "stdout",
     "output_type": "stream",
     "text": [
      "(6206, 3) (4654, 3) (1552, 3)\n"
     ]
    }
   ],
   "source": [
    "train = pd.read_csv('data/train.csv')\n",
    "n_train = round(train.shape[0]*3/4)\n",
    "train_set, val_set = train.iloc[:n_train,:],train.iloc[n_train:,:]\n",
    "print(train.shape, train_set.shape,val_set.shape)"
   ]
  },
  {
   "cell_type": "code",
   "execution_count": 19,
   "metadata": {},
   "outputs": [],
   "source": [
    "num = '002'\n",
    "os.mkdir('data/'+num)\n",
    "for i in ['train', 'test']:\n",
    "    os.mkdir('data/'+num+'/'+i)"
   ]
  },
  {
   "cell_type": "code",
   "execution_count": 20,
   "metadata": {},
   "outputs": [],
   "source": [
    "for i in train.breed.unique():\n",
    "    train_fd_name = 'data/'+num+'/train/'+str(i)\n",
    "    test_fd_name = 'data/'+num+'/test/'+str(i)\n",
    "    os.mkdir(train_fd_name)\n",
    "    os.mkdir(test_fd_name)"
   ]
  },
  {
   "cell_type": "code",
   "execution_count": 22,
   "metadata": {},
   "outputs": [],
   "source": [
    "for idx,(name,class_name,breed) in train_set.iterrows():\n",
    "    source = 'data/train/' + name + '.jpg'\n",
    "    for i in ['train', 'test']:\n",
    "        destination = 'data/'+num+'/' + i + '/' + str(breed) + '/' + name + '.jpg'\n",
    "        copyfile(source, destination)"
   ]
  }
 ],
 "metadata": {
  "kernelspec": {
   "display_name": "Python 3",
   "language": "python",
   "name": "python3"
  },
  "language_info": {
   "codemirror_mode": {
    "name": "ipython",
    "version": 3
   },
   "file_extension": ".py",
   "mimetype": "text/x-python",
   "name": "python",
   "nbconvert_exporter": "python",
   "pygments_lexer": "ipython3",
   "version": "3.7.1"
  }
 },
 "nbformat": 4,
 "nbformat_minor": 2
}
